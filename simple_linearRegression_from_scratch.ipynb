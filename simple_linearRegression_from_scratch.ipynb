{
  "nbformat": 4,
  "nbformat_minor": 0,
  "metadata": {
    "colab": {
      "provenance": [],
      "authorship_tag": "ABX9TyMNyFUa2Rz/NfTuAOW0qIJU",
      "include_colab_link": true
    },
    "kernelspec": {
      "name": "python3",
      "display_name": "Python 3"
    },
    "language_info": {
      "name": "python"
    }
  },
  "cells": [
    {
      "cell_type": "markdown",
      "metadata": {
        "id": "view-in-github",
        "colab_type": "text"
      },
      "source": [
        "<a href=\"https://colab.research.google.com/github/Shreshth-112/ai_models/blob/main/simple_linearRegression_from_scratch.ipynb\" target=\"_parent\"><img src=\"https://colab.research.google.com/assets/colab-badge.svg\" alt=\"Open In Colab\"/></a>"
      ]
    },
    {
      "cell_type": "markdown",
      "source": [
        "A linear regression line has an equation of the form Y = a + bX, where X is the explanatory variable and Y is the dependent variable. The slope of the line is b, and a is the intercept (the value of y when x = 0).\n",
        "\n",
        "\n",
        "---\n",
        "\n",
        "\n"
      ],
      "metadata": {
        "id": "8kAqxNDgILQS"
      }
    },
    {
      "cell_type": "markdown",
      "source": [
        "<h2> Closed Form Solution : </h2>\n",
        "\n",
        "\n",
        "---\n",
        "\n",
        "\n",
        "![rough.jpeg](data:image/jpeg;base64,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)\n",
        "\n",
        "\n"
      ],
      "metadata": {
        "id": "fXYNV9TTQofc"
      }
    },
    {
      "cell_type": "code",
      "execution_count": 29,
      "metadata": {
        "id": "vyqnV4_HGvxy"
      },
      "outputs": [],
      "source": [
        "class MeraLR:\n",
        "  def __init__(self):\n",
        "    self.m = None\n",
        "    self.b = None\n",
        "\n",
        "  def fit(self,X_train,y_train):\n",
        "    num = 0\n",
        "    den = 0\n",
        "\n",
        "    for i in range(int(X_train[0])):\n",
        "      num = num + ((X_train[i]-X_train.mean())*(y_train[i]-y_train.mean()))\n",
        "      den = den + ((X_train[i]-X_train.mean())*(X_train[i]-X_train.mean()))\n",
        "\n",
        "    self.m = num/den\n",
        "    self.b = y_train.mean() - (self.m * X_train.mean())\n",
        "    print(self.m)\n",
        "    print(self.b)\n",
        "\n",
        "  def predict(self,X_test):\n",
        "    return (self.m * X_test + self.b)\n",
        ""
      ]
    },
    {
      "cell_type": "code",
      "source": [
        "import numpy as np\n",
        "import pandas as pd"
      ],
      "metadata": {
        "id": "PTbdS_L6IHvQ"
      },
      "execution_count": 13,
      "outputs": []
    },
    {
      "cell_type": "code",
      "source": [
        "df = pd.read_csv('placement.csv')"
      ],
      "metadata": {
        "id": "RTMZwNg1IJBP"
      },
      "execution_count": 14,
      "outputs": []
    },
    {
      "cell_type": "code",
      "source": [
        "X = df.iloc[:,0].values\n",
        "y = df.iloc[:,1].values"
      ],
      "metadata": {
        "id": "pxQ_Ho8xIJWe"
      },
      "execution_count": 16,
      "outputs": []
    },
    {
      "cell_type": "code",
      "source": [
        "from sklearn.model_selection import train_test_split\n",
        "X_train,X_test,y_train,y_test = train_test_split(X,y,test_size=0.2,random_state=2)"
      ],
      "metadata": {
        "id": "dVMGIt1MIJm_"
      },
      "execution_count": 17,
      "outputs": []
    },
    {
      "cell_type": "code",
      "source": [
        "lr = MeraLR()"
      ],
      "metadata": {
        "id": "e8ncl8_iK-Jv"
      },
      "execution_count": 30,
      "outputs": []
    },
    {
      "cell_type": "code",
      "source": [
        "lr.fit(X_train,y_train)"
      ],
      "metadata": {
        "colab": {
          "base_uri": "https://localhost:8080/"
        },
        "id": "XEJXLoxgK-UW",
        "outputId": "33513de8-efd9-4bf0-82ee-cd07d8e60aec"
      },
      "execution_count": 32,
      "outputs": [
        {
          "output_type": "stream",
          "name": "stdout",
          "text": [
            "0.48640320794067066\n",
            "-0.3959905233047918\n"
          ]
        }
      ]
    },
    {
      "cell_type": "code",
      "source": [
        "print(lr.predict(X_test[0]))"
      ],
      "metadata": {
        "colab": {
          "base_uri": "https://localhost:8080/"
        },
        "id": "AOBJdN_TK-nH",
        "outputId": "756cd720-8310-4819-9882-734f78087181"
      },
      "execution_count": 33,
      "outputs": [
        {
          "output_type": "stream",
          "name": "stdout",
          "text": [
            "3.7773490008261623\n"
          ]
        }
      ]
    }
  ]
}